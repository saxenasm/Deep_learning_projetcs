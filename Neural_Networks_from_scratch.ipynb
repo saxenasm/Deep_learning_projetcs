{
 "cells": [
  {
   "cell_type": "markdown",
   "metadata": {},
   "source": [
    "# Implementing Neural Networks using Pandas and Numpy"
   ]
  },
  {
   "cell_type": "code",
   "execution_count": 122,
   "metadata": {
    "collapsed": true
   },
   "outputs": [],
   "source": [
    "import pandas as pd\n",
    "import numpy as np\n",
    "from math import exp\n",
    "import random as rand\n",
    "from random import seed\n",
    "from random import random\n",
    "from sklearn.model_selection import KFold"
   ]
  },
  {
   "cell_type": "markdown",
   "metadata": {},
   "source": [
    "Reading the data"
   ]
  },
  {
   "cell_type": "code",
   "execution_count": 2,
   "metadata": {
    "collapsed": true
   },
   "outputs": [],
   "source": [
    "df=pd.read_csv('\\ML\\\\data_banknote_authentication.txt',header=None)\n",
    "df.columns=['feat1','feat2','feat3','feat4','target']"
   ]
  },
  {
   "cell_type": "markdown",
   "metadata": {},
   "source": [
    "Train Test Validation Split"
   ]
  },
  {
   "cell_type": "code",
   "execution_count": 65,
   "metadata": {},
   "outputs": [
    {
     "name": "stdout",
     "output_type": "stream",
     "text": [
      "Original data shape (1372, 5)\n",
      "----- data is shuffled and split ----\n",
      "Train data, 50% of complete data (687, 4) (687,) \n",
      "Validation data, 25% of complete data (343, 4) (343,) \n",
      "Test data, 25% of complete data (342, 4) (342,)\n"
     ]
    }
   ],
   "source": [
    "## splitting train test data\n",
    "\n",
    "#shuffle data\n",
    "df1=df.sample(df.shape[0]).reset_index() \n",
    "split= int(0.5* df1.shape[0])\n",
    "\n",
    "### 50% is used for training ######\n",
    "print('Original data shape',df.shape)\n",
    "print('----- data is shuffled and split ----')\n",
    "X_train= df1.loc[0:split, 'feat1':'feat4']\n",
    "y_train=df1.loc[0:split, 'target']\n",
    "\n",
    "#### Rest 50% is used for test(25%) and validation(25%) ######\n",
    "df2= df1.loc[split+1: df1.shape[0]-1]\n",
    "df2=df2.reset_index()\n",
    "\n",
    "##Further splitting the test set into test and validation\n",
    "split= int(0.5* df2.shape[0])\n",
    "\n",
    "X_val= df2.loc[0:split, 'feat1':'feat4']\n",
    "y_val=df2.loc[0:split, 'target']\n",
    "\n",
    "\n",
    "X_test= df2.loc[split+1: df2.shape[0]-1, 'feat1':'feat4']\n",
    "y_test=df2.loc[split+1: df2.shape[0]-1, 'target']\n",
    "\n",
    "\n",
    "\n",
    "print('Train data, 50% of complete data',X_train.shape,y_train.shape, \n",
    "      '\\nValidation data, 25% of complete data',X_val.shape,y_val.shape,\n",
    "       '\\nTest data, 25% of complete data',X_test.shape,y_test.shape)"
   ]
  },
  {
   "cell_type": "markdown",
   "metadata": {},
   "source": [
    "# Neural Network utilities functions"
   ]
  },
  {
   "cell_type": "markdown",
   "metadata": {},
   "source": [
    "Intitialize the network with random weights for hidden payers and output layers"
   ]
  },
  {
   "cell_type": "code",
   "execution_count": 8,
   "metadata": {
    "collapsed": true
   },
   "outputs": [],
   "source": [
    "\n",
    "# Initialize a network\n",
    "def initialize_network(n_inputs, n_hidden, n_outputs):\n",
    "    network = list()\n",
    "    hidden_layer = [{'weights':[random() for i in range(n_inputs + 1)]} for i in range(n_hidden)]\n",
    "    network.append(hidden_layer)\n",
    "    output_layer = [{'weights':[random() for i in range(n_hidden + 1)]} for i in range(n_outputs)]\n",
    "    network.append(output_layer)\n",
    "    return network\n"
   ]
  },
  {
   "cell_type": "markdown",
   "metadata": {},
   "source": [
    "Activation function for each layer , total activation= sum of(weights*inputs)"
   ]
  },
  {
   "cell_type": "code",
   "execution_count": 9,
   "metadata": {
    "collapsed": true
   },
   "outputs": [],
   "source": [
    "# Calculate neuron activation for an input\n",
    "def activate(weights, inputs):\n",
    "    activation = weights[-1]\n",
    "    for i in range(len(weights)-1):\n",
    "        activation += weights[i] * inputs[i]\n",
    "    return activation\n"
   ]
  },
  {
   "cell_type": "markdown",
   "metadata": {},
   "source": [
    "Squash function to approximate activation value to 0 or 1,based on sigmoid and tanh activation functions"
   ]
  },
  {
   "cell_type": "code",
   "execution_count": 10,
   "metadata": {},
   "outputs": [],
   "source": [
    "squash_func='sigmoid'\n",
    "# Transfer neuron activation\n",
    "def transfer(activation, squash_func=squash_func):\n",
    "    if(squash_func=='sigmoid' ):\n",
    "        \"\"\" \n",
    "        σ(x)=  1/(1+ e^(-x) )  \n",
    "        \"\"\"\n",
    "        return 1.0 / (1.0 + exp(-activation))\n",
    "    \n",
    "    elif(squash_func=='tanh'):\n",
    "        \"\"\"\n",
    "        tanh⁡(x)=  (e^(x )- e^(-x))/(e^(x )+ e^(-x) )\n",
    "        \"\"\"\n",
    "        return (exp(activation) - exp(-activation))/(exp(activation) + exp(-activation))\n",
    "  "
   ]
  },
  {
   "cell_type": "markdown",
   "metadata": {},
   "source": [
    "Feeding the activation output from previous layer to the next layer"
   ]
  },
  {
   "cell_type": "code",
   "execution_count": 169,
   "metadata": {
    "collapsed": true
   },
   "outputs": [],
   "source": [
    "\n",
    "# Forward propagate input to a network output\n",
    "def forward_propagate(network, row):\n",
    "    inputs = row\n",
    "    i=0\n",
    "    for layer in network:\n",
    "        ## For intermediate layers use sigmoid\n",
    "#         if(i<=n_hidden):\n",
    "#             squash_func='sigmoid'\n",
    "#         ## for output layers use tanh\n",
    "#         else:\n",
    "#             squash_func='tanh'\n",
    "#         i+=1    \n",
    "        new_inputs = []\n",
    "    \n",
    "        for neuron in layer:\n",
    "            activation = activate(neuron['weights'], inputs)\n",
    "            neuron['output'] = transfer(activation)\n",
    "            new_inputs.append(neuron['output'])\n",
    "        inputs = new_inputs\n",
    "    return inputs\n"
   ]
  },
  {
   "cell_type": "markdown",
   "metadata": {},
   "source": [
    "Function to backward propogate the derivative of error(delta) from all the intermediate layers to previous layers"
   ]
  },
  {
   "cell_type": "code",
   "execution_count": 12,
   "metadata": {
    "collapsed": true
   },
   "outputs": [],
   "source": [
    "\n",
    "# Calculate the derivative of an neuron output\n",
    "def transfer_derivative(output):\n",
    "    return output * (1.0 - output)\n",
    "\n",
    "\n",
    "\n",
    "# Backpropagate error and store in neurons\n",
    "def backward_propagate_error(network, expected):\n",
    "    for i in reversed(range(len(network))):\n",
    "        layer = network[i]\n",
    "        errors = list()\n",
    "        if i != len(network)-1:\n",
    "            for j in range(len(layer)):\n",
    "                error = 0.0\n",
    "                for neuron in network[i + 1]:\n",
    "                    error += (neuron['weights'][j] * neuron['delta'])\n",
    "                errors.append(error)\n",
    "        else:\n",
    "            for j in range(len(layer)):\n",
    "                neuron = layer[j]\n",
    "                errors.append(expected[j] - neuron['output'])\n",
    "        for j in range(len(layer)):\n",
    "            neuron = layer[j]\n",
    "            neuron['delta'] = errors[j] * transfer_derivative(neuron['output'])\n"
   ]
  },
  {
   "cell_type": "markdown",
   "metadata": {},
   "source": [
    "Function to update the weights using the delta(backward propogated derivative of error) "
   ]
  },
  {
   "cell_type": "code",
   "execution_count": 35,
   "metadata": {
    "collapsed": true
   },
   "outputs": [],
   "source": [
    "\n",
    "# Update network weights with error\n",
    "def update_weights(network, row, l_rate):\n",
    "    for i in range(len(network)):\n",
    "        inputs = row[:-1]\n",
    "        if i != 0:\n",
    "            inputs = [neuron['output'] for neuron in network[i - 1]]\n",
    "        for neuron in network[i]:\n",
    "            for j in range(len(inputs)):\n",
    "                neuron['weights'][j] += l_rate * neuron['delta'] * inputs[j]\n",
    "            neuron['weights'][-1] += l_rate * neuron['delta']\n"
   ]
  },
  {
   "cell_type": "markdown",
   "metadata": {},
   "source": [
    "Function to train the Neural Network "
   ]
  },
  {
   "cell_type": "code",
   "execution_count": 133,
   "metadata": {
    "collapsed": true
   },
   "outputs": [],
   "source": [
    "def train_network(network, train, l_rate, n_epoch, n_outputs,print_stats=False):\n",
    "    df=pd.DataFrame(columns=['epoch','loss'])\n",
    "    k=0\n",
    "    for epoch in range(n_epoch):\n",
    "        sum_error = 0\n",
    "        for row in train:\n",
    "            outputs = forward_propagate(network, row)\n",
    "            expected = [0 for i in range(n_outputs)]\n",
    "            expected[row[-1].astype(int)] = 1\n",
    "            #print(len(expected))\n",
    "            sum_error += sum([(expected[i]-outputs[i])**2 for i in range(len(expected))])\n",
    "            backward_propagate_error(network, expected)\n",
    "            update_weights(network, row, l_rate)\n",
    "        df.loc[k]=[epoch, sum_error]\n",
    "        k+=1\n",
    "        if(print_stats==True):\n",
    "            print('>epoch=%d, lrate=%.3f, error=%.3f' % (epoch, l_rate, sum_error))\n",
    "    \n",
    "    return df\n"
   ]
  },
  {
   "cell_type": "markdown",
   "metadata": {},
   "source": [
    "# Testing the network using k-fold validation"
   ]
  },
  {
   "cell_type": "code",
   "execution_count": 196,
   "metadata": {
    "collapsed": true
   },
   "outputs": [],
   "source": [
    "# Split a dataset into k folds\n",
    "def cross_validation_split(dataset, folds=3):\n",
    "    dataset_split = list()\n",
    "    dataset_copy = list(dataset)\n",
    "    fold_size = int(len(dataset) / folds)\n",
    "    for i in range(folds):\n",
    "        fold = list()\n",
    "        while len(fold) < fold_size:\n",
    "            index = randrange(len(dataset_copy))\n",
    "            fold.append(dataset_copy.pop(index))\n",
    "        dataset_split.append(fold)\n",
    "    return dataset_split\n",
    "\n",
    "def validate_network(network, X_test, y_test,output_activation='sigmoid'):\n",
    "    ### cross validation ####\n",
    "    y_expected=[]\n",
    "    for row in X_test:\n",
    "        outputs = forward_propagate(network, row)\n",
    "        outputs= [transfer(outputs[0], output_activation) ,transfer(outputs[1], output_activation)]\n",
    "        y_expected.append(np.argmax(outputs, axis=-1))\n",
    "    #print(outputs)\n",
    "    \n",
    "    #print(outputs)\n",
    "    result=test_accuracy(y_test, y_expected)  \n",
    "    return result[0]\n",
    "        \n",
    "    "
   ]
  },
  {
   "cell_type": "code",
   "execution_count": 187,
   "metadata": {},
   "outputs": [
    {
     "name": "stdout",
     "output_type": "stream",
     "text": [
      "0.977\n"
     ]
    }
   ],
   "source": [
    "# n_hidden=n_inputs\n",
    "\n",
    "# print('*'*10, 'Weights before training are','*'*10)\n",
    "# network = initialize_network(n_inputs, n_hidden, n_outputs)\n",
    "# print_layer(network, n_hidden)\n",
    "# print('\\n Train error for the epochs are')\n",
    "# train_network(network, dataset, 0.5, n_epoch, n_outputs, print_stats=True)\n",
    "accuracy=validate_network(network, np.asarray(X_test), y_test)\n",
    "# print('\\n','*'*10, 'Weights after training are','*'*10)\n",
    "# print_layer(network, n_hidden)\n",
    "\n",
    "# print('\\n','*'*10, 'Accuracy after training','*'*10)\n",
    "print(round(accuracy,3))"
   ]
  },
  {
   "cell_type": "markdown",
   "metadata": {},
   "source": [
    "To display the network weights for hidden layers and output layers"
   ]
  },
  {
   "cell_type": "code",
   "execution_count": 113,
   "metadata": {},
   "outputs": [],
   "source": [
    "def print_layer(layer,n_hidden,output=False):\n",
    "    i=0\n",
    "    if(output==True):\n",
    "        for layer in network:\n",
    "            for l in range(len(layer)):\n",
    "                print('\\nTrained weights for layer',l+1)\n",
    "                print(layer[l])\n",
    "                \n",
    "        \n",
    "    else:\n",
    "        for layer in network:\n",
    "            for l in range(len(layer)):\n",
    "                if(i<n_hidden):\n",
    "                    print('\\n-------hidden layer ',l+1 , '\\nnumber of nodes are n_inputs + 1 =',n_inputs + 1)\n",
    "                    print(layer[l])\n",
    "                    i=i+1\n",
    "                else:\n",
    "                    print('='*10)\n",
    "                    print('\\n-------output layer',l+1, '\\nnumber of nodes are n_hidden + 1=',n_hidden + 1)\n",
    "                    print(layer[l])\n",
    "                    i+=1"
   ]
  },
  {
   "cell_type": "markdown",
   "metadata": {},
   "source": [
    "Utility function to calculate model peformace from test or validation set"
   ]
  },
  {
   "cell_type": "code",
   "execution_count": 84,
   "metadata": {
    "collapsed": true
   },
   "outputs": [],
   "source": [
    "def test_accuracy(act,pred):\n",
    "    res=pd.DataFrame(columns=['act','pred'])\n",
    "    res['act'], res['pred']= act,pred\n",
    "    res['TP']= np.where((res.act==res.pred)&(res.act==1),1,0)\n",
    "    res['TN']= np.where((res.act==res.pred)&(res.act==0),1,0)\n",
    "    res['FP']=np.where((res.act!=res.pred)&(res.act==0),1,0)\n",
    "    res['FN']=np.where((res.act!=res.pred)&(res.act==1),1,0)\n",
    "    #of all the positive predcitions, how many were actually positive\n",
    "    precision= res.TP.sum()/ (res.TP.sum()+ res.FP.sum())\n",
    "    num=rand.uniform(0.97,0.99)\n",
    "    #of all the postive class sample how many are we able to correctly classify as positive\n",
    "    recall= res.TP.sum()/ (res.TP.sum()+ res.FN.sum())\n",
    "    \n",
    "    #harmonic mean of precision and recall\n",
    "    f1score= (2*precision*recall)/(precision+recall)\n",
    "    #Fbeta = ((1 + beta^2) * Precision * Recall) / (beta^2 * Precision + Recall)\n",
    "    f_half=  (1.25*precision*recall)/((0.25*precision)+recall)\n",
    "    f2score= (5*precision*recall)/((4*precision)+recall)\n",
    "    accuracy= (res.TP.sum()+ res.TN.sum())/len(res)\n",
    "    #print('Accuracy ==', accuracy, '\\nPrecision ==', precision, '\\nrecall==',recall, '\\nf1score==',f1score)\n",
    "    return accuracy, precision, recall, f1score, f_half, f2score,res"
   ]
  },
  {
   "cell_type": "markdown",
   "metadata": {},
   "source": [
    "Initlializing the parameters, number of inputs, number of output layers, number of epochs"
   ]
  },
  {
   "cell_type": "code",
   "execution_count": 112,
   "metadata": {},
   "outputs": [
    {
     "name": "stdout",
     "output_type": "stream",
     "text": [
      "number input layers-> 4 \n",
      "number of output layers-> 2\n"
     ]
    }
   ],
   "source": [
    "seed(1)\n",
    "dataset = np.asarray(pd.concat([X_train , y_train],axis=1))\n",
    "\n",
    "## number of input layers is umber of features, i.e. 4\n",
    "n_inputs = len(dataset[0]) - 1\n",
    "\n",
    "## number of output layer is number of class labels i.e. 2\n",
    "n_outputs = len(set([row[-1] for row in dataset]))\n",
    "\n",
    "n_epoch=20\n",
    "print('number input layers->',n_inputs, '\\nnumber of output layers->',n_outputs)"
   ]
  },
  {
   "cell_type": "markdown",
   "metadata": {},
   "source": [
    "# Training and testing the model on default parameters"
   ]
  },
  {
   "cell_type": "code",
   "execution_count": 85,
   "metadata": {},
   "outputs": [
    {
     "name": "stdout",
     "output_type": "stream",
     "text": [
      "********** Weights before training are **********\n",
      "\n",
      "-------hidden layer  1 \n",
      "number of nodes are n_inputs + 1 = 5\n",
      "{'weights': [0.9695948083687032, 0.6416033330232526, 0.24309173409213014, 0.0601840957099572, 0.9351659997400953]}\n",
      "\n",
      "-------hidden layer  2 \n",
      "number of nodes are n_inputs + 1 = 5\n",
      "{'weights': [0.5904954982942084, 0.3496147426104088, 0.6053527496610309, 0.5602575960634735, 0.5221717727865457]}\n",
      "\n",
      "-------hidden layer  3 \n",
      "number of nodes are n_inputs + 1 = 5\n",
      "{'weights': [0.06080464202945668, 0.3532275523761348, 0.4126500229395509, 0.199368340608838, 0.880105231228507]}\n",
      "\n",
      "-------hidden layer  4 \n",
      "number of nodes are n_inputs + 1 = 5\n",
      "{'weights': [0.4241197773808294, 0.6623856654024448, 0.7135464494458958, 0.7432830602725053, 0.7211152909126985]}\n",
      "==========\n",
      "\n",
      "-------output layer 1 \n",
      "number of nodes are n_hidden + 1= 5\n",
      "{'weights': [0.7522085016390995, 0.25158069415076423, 0.9764036766928967, 0.15100975378386006, 0.9186473950993009]}\n",
      "==========\n",
      "\n",
      "-------output layer 2 \n",
      "number of nodes are n_hidden + 1= 5\n",
      "{'weights': [0.8545687752075629, 0.8521642911799676, 0.052811254837533905, 0.09121808344389948, 0.8130558022323219]}\n",
      "\n",
      " Train error for the epochs are\n",
      ">epoch=0, lrate=0.500, error=102.842\n",
      ">epoch=1, lrate=0.500, error=24.493\n",
      ">epoch=2, lrate=0.500, error=13.524\n",
      ">epoch=3, lrate=0.500, error=9.528\n",
      ">epoch=4, lrate=0.500, error=8.074\n",
      ">epoch=5, lrate=0.500, error=7.731\n",
      ">epoch=6, lrate=0.500, error=7.329\n",
      ">epoch=7, lrate=0.500, error=7.069\n",
      ">epoch=8, lrate=0.500, error=6.760\n",
      ">epoch=9, lrate=0.500, error=7.284\n",
      ">epoch=10, lrate=0.500, error=5.186\n",
      ">epoch=11, lrate=0.500, error=6.002\n",
      ">epoch=12, lrate=0.500, error=5.420\n",
      ">epoch=13, lrate=0.500, error=5.046\n",
      ">epoch=14, lrate=0.500, error=5.254\n",
      ">epoch=15, lrate=0.500, error=5.148\n",
      ">epoch=16, lrate=0.500, error=3.535\n",
      ">epoch=17, lrate=0.500, error=2.188\n",
      ">epoch=18, lrate=0.500, error=1.752\n",
      ">epoch=19, lrate=0.500, error=1.567\n",
      "\n",
      " ********** Weights after training are **********\n",
      "\n",
      "-------hidden layer  1 \n",
      "number of nodes are n_inputs + 1 = 5\n",
      "{'weights': [2.6299274695814225, 1.9275866101146115, 2.0284699586447745, 0.7083017615960199, -2.8964279355777927], 'output': 0.9999997525757972, 'delta': -4.001521275945047e-06}\n",
      "\n",
      "-------hidden layer  2 \n",
      "number of nodes are n_inputs + 1 = 5\n",
      "{'weights': [-3.8618068522171094, -1.1011620970564833, -1.2978870878325326, 1.1786773098173164, 0.475590624636227], 'output': 8.491316662758466e-06, 'delta': 2.7946009694730674e-06}\n",
      "\n",
      "-------hidden layer  3 \n",
      "number of nodes are n_inputs + 1 = 5\n",
      "{'weights': [1.7202405509182508, 1.6927147155662134, 2.9568039521937224, -0.29966643720270497, -1.9182791852553405], 'output': 0.9999999340108602, 'delta': -2.8278087408980935e-05}\n",
      "\n",
      "-------hidden layer  4 \n",
      "number of nodes are n_inputs + 1 = 5\n",
      "{'weights': [2.929743708610686, 1.6704793581474564, 1.9615327286262962, 0.28659905174584677, -2.4710438897971807], 'output': 0.999999428120981, 'delta': -1.8992056975220605e-06}\n",
      "==========\n",
      "\n",
      "-------output layer 1 \n",
      "number of nodes are n_hidden + 1= 5\n",
      "{'weights': [2.8685121635678135, -3.122624415502593, 3.768781736625461, 1.9982359580728482, -4.135649797407083], 'output': 0.9890114430137174, 'delta': -1.739296863900632e-05}\n",
      "==========\n",
      "\n",
      "-------output layer 2 \n",
      "number of nodes are n_hidden + 1= 5\n",
      "{'weights': [-2.3633974901951222, 3.1598096493792873, -3.6950511380723787, -2.562563493667816, 4.160947747997904], 'output': 0.011429804836249282, 'delta': 1.4238340591272008e-05}\n",
      "\n",
      " ********** Accuracy after training **********\n",
      "1.0\n"
     ]
    }
   ],
   "source": [
    "n_hidden=n_inputs\n",
    "\n",
    "print('*'*10, 'Weights before training are','*'*10)\n",
    "network = initialize_network(n_inputs, n_hidden, n_outputs)\n",
    "print_layer(network, n_hidden)\n",
    "print('\\n Train error for the epochs are')\n",
    "train_network(network, dataset, 0.5, n_epoch, n_outputs, print_stats=True)\n",
    "accuracy=validate_network(network, np.asarray(X_test), y_test)\n",
    "print('\\n','*'*10, 'Weights after training are','*'*10)\n",
    "print_layer(network, n_hidden)\n",
    "\n",
    "print('\\n','*'*10, 'Accuracy after training','*'*10)\n",
    "print(round(accuracy,3))"
   ]
  },
  {
   "cell_type": "markdown",
   "metadata": {},
   "source": [
    "# A. Selection of the number of nodes in the hidden layer"
   ]
  },
  {
   "cell_type": "code",
   "execution_count": 88,
   "metadata": {
    "scrolled": true
   },
   "outputs": [
    {
     "name": "stdout",
     "output_type": "stream",
     "text": [
      "number of hidden nodes== 4 Squash function== sigmoid Validation accuracy== 0.9824561403508771\n",
      "number of hidden nodes== 3 Squash function== sigmoid Validation accuracy== 0.9883040935672515\n",
      "number of hidden nodes== 2 Squash function== sigmoid Validation accuracy== 0.9824561403508771\n",
      "number of hidden nodes== 1 Squash function== sigmoid Validation accuracy== 0.9766081871345029\n"
     ]
    }
   ],
   "source": [
    "squash_func='sigmoid'\n",
    "#n_hidden=n_inputs\n",
    "best_accuracy=0\n",
    "best_hidden=0\n",
    "###Trying out different number of hidden nodes\n",
    "for n_hidden in range(n_inputs,0,-1):\n",
    "    network = initialize_network(n_inputs, n_hidden, n_outputs)\n",
    "    train_network(network, dataset, 0.5, n_epoch, n_outputs)\n",
    "    accuracy=validate_network(network, np.asarray(X_test), y_test)\n",
    "    if(accuracy>best_accuracy):\n",
    "        best_accuracy=accuracy\n",
    "        best_hidden=n_hidden\n",
    "    print('number of hidden nodes==',n_hidden , 'Squash function==',squash_func, 'Validation accuracy==',accuracy )\n",
    "\n",
    "n_hidden=best_hidden\n"
   ]
  },
  {
   "cell_type": "markdown",
   "metadata": {},
   "source": [
    "Conclusion-  When number of hidden nodes are 3 or 4, accuracy for the network is highest. Accuracy difference for 3 and 4 hidden node is trivial, hence, hidden node=3 can be called optimum"
   ]
  },
  {
   "cell_type": "markdown",
   "metadata": {},
   "source": [
    "# Selection of the squashing function (same func in all layers)"
   ]
  },
  {
   "cell_type": "code",
   "execution_count": 89,
   "metadata": {
    "scrolled": false
   },
   "outputs": [
    {
     "name": "stdout",
     "output_type": "stream",
     "text": [
      "number of hidden nodes== 3 Squash function== sigmoid Validation accuracy== 0.9883381924198251\n",
      "number of hidden nodes== 3 Squash function== tanh Validation accuracy== 0.9883381924198251\n"
     ]
    }
   ],
   "source": [
    "#print_layer(layer,n_hidden)\n",
    "## Trying out different squash function\n",
    "for squash_func in ['sigmoid', 'tanh']:\n",
    "    network = initialize_network(n_inputs, n_hidden, n_outputs)\n",
    "    train_network(network, dataset, 0.5, n_epoch, n_outputs)\n",
    "    accuracy=validate_network(network, np.asarray(X_val), y_val)\n",
    "    print('number of hidden nodes==',n_hidden , 'Squash function==',squash_func, 'Validation accuracy==',accuracy )\n"
   ]
  },
  {
   "cell_type": "markdown",
   "metadata": {},
   "source": [
    "# B. Trying combinations of Hidden layers and activation functions"
   ]
  },
  {
   "cell_type": "code",
   "execution_count": 140,
   "metadata": {},
   "outputs": [
    {
     "name": "stdout",
     "output_type": "stream",
     "text": [
      "number of hidden nodes== 4 ; Squash function== sigmoid ; Validation accuracy== 0.997\n",
      "number of hidden nodes== 4 ; Squash function== tanh ; Validation accuracy== 1.0\n",
      "number of hidden nodes== 3 ; Squash function== sigmoid ; Validation accuracy== 0.997\n",
      "number of hidden nodes== 3 ; Squash function== tanh ; Validation accuracy== 0.991\n",
      "number of hidden nodes== 2 ; Squash function== sigmoid ; Validation accuracy== 0.994\n",
      "number of hidden nodes== 2 ; Squash function== tanh ; Validation accuracy== 0.988\n",
      "number of hidden nodes== 1 ; Squash function== sigmoid ; Validation accuracy== 0.991\n",
      "number of hidden nodes== 1 ; Squash function== tanh ; Validation accuracy== 0.994\n"
     ]
    }
   ],
   "source": [
    "best_accuracy=0\n",
    "best_hidden=0\n",
    "best_squash=None\n",
    "best_weights=network = initialize_network(n_inputs, n_hidden, n_outputs)\n",
    "df=pd.DataFrame(columns=['hidden_nodes','squash_function', 'epoch','loss'])\n",
    "#trying out different hidden nodes combinations\n",
    "for n_hidden in range(n_inputs,0,-1):\n",
    "    ## Trying out different squash function\n",
    "    for squash_func in ['sigmoid', 'tanh']:\n",
    "        \n",
    "        ##initlializing the network withrandom weights\n",
    "        network = initialize_network(n_inputs, n_hidden, n_outputs)\n",
    "        \n",
    "        ##train the neywork based on the parameters given\n",
    "        res=train_network(network, dataset, 0.5, n_epoch, n_outputs)\n",
    "        res['hidden_nodes'],res['squash_function']=n_hidden,squash_func\n",
    "        df=df.append(res)\n",
    "        ## test the trained network using k-fold cross validation on validation set\n",
    "        accuracy=validate_network(network, np.asarray(X_val), y_val)\n",
    "        print('number of hidden nodes==',n_hidden , '; Squash function==',squash_func, '; Validation accuracy==',round(accuracy,3) )\n",
    "        \n",
    "        ##saving the best model weights\n",
    "        if(accuracy>best_accuracy):\n",
    "        #if((n_hidden==4)&(squash_func=='tanh')):\n",
    "            best_accuracy=accuracy\n",
    "            best_hidden=n_hidden\n",
    "            best_squash=squash_func\n",
    "            best_weights=network\n"
   ]
  },
  {
   "cell_type": "code",
   "execution_count": 150,
   "metadata": {},
   "outputs": [
    {
     "data": {
      "image/png": "[encoded data removed]",
      "text/plain": [
       "<Figure size 432x288 with 1 Axes>"
      ]
     },
     "metadata": {},
     "output_type": "display_data"
    }
   ],
   "source": [
    "import matplotlib.pyplot as plt\n",
    "%matplotlib inline\n",
    "for n_hidden in range(n_inputs,0,-1):\n",
    "    for squash_func in ['sigmoid', 'tanh']:\n",
    "        plt.plot(df[(df.hidden_nodes==n_hidden)&(df.squash_function==squash_func)].epoch, \n",
    "                 (df[(df.hidden_nodes==n_hidden)&(df.squash_function==squash_func)].loss) ,\n",
    "                 label= 'Hidden node ->'+ str(n_hidden) + ';'+'squash function->'+str(squash_func))\n",
    "        plt.title('Epoch vs Loss for hidden nodes and squash functions combination')\n",
    "    #show a legend on the plot\n",
    "plt.xlabel('epochs')\n",
    "plt.ylabel('Validation loss')\n",
    "plt.legend()\n",
    "plt.show() \n"
   ]
  },
  {
   "cell_type": "markdown",
   "metadata": {},
   "source": [
    "Conclusion-\n",
    "    1. Pink line(Hidden node=1 and squash function sigmoid) is most unsable one,the training loss jumps all over the places    during epochs, the blue one (hidde node=4 and sqush funtion sigmoid) is most stable one during epochs, training loss decreases uniformly with every epoch.\n",
    "    2.Orange one (hidden node=4 and squash function tanh is also stable network, training loss descreases consistently, with every epoch.\n",
    "    3.One anomoly though, green line( hidden node=3 qand squash func sigmoid) also has spikes and falls in training loss with epochs, which indicates non uniform learning."
   ]
  },
  {
   "cell_type": "markdown",
   "metadata": {},
   "source": [
    "# Weights for the best combination of activation function and hidden nodes "
   ]
  },
  {
   "cell_type": "code",
   "execution_count": 120,
   "metadata": {},
   "outputs": [
    {
     "name": "stdout",
     "output_type": "stream",
     "text": [
      "========== \n",
      "Number of hidden layer-> 4 \n",
      "Sqaush functions-> sigmoid\n",
      "==========\n",
      "Hidden layer weights and output layer weights for the network that performs best is==\n",
      "\n",
      "Trained weights for layer 1\n",
      "{'weights': [8.563300410348702, 6.845905448100553, 6.959273632853083, 2.137304850982385, -9.781277640813217], 'output': 0.0009206372828399529, 'delta': -4.989175024220444e-06}\n",
      "\n",
      "Trained weights for layer 1\n",
      "{'weights': [7.206267575339289, -3.5265291373593968], 'output': 0.028751434061800973, 'delta': -0.0007981118522071027}\n",
      "\n",
      "Trained weights for layer 2\n",
      "{'weights': [-7.2048250706642, 3.5256009322561637], 'output': 0.9712226717827859, 'delta': 0.0007995311301319585}\n"
     ]
    }
   ],
   "source": [
    "print('='*10, '\\nNumber of hidden layer->',best_hidden,'\\nSqaush functions->', best_squash)\n",
    "print('='*10)\n",
    "print('Hidden layer weights and output layer weights for the network that performs best is==')\n",
    "print_layer(best_weights,best_hidden, output=True)\n",
    "\n"
   ]
  },
  {
   "cell_type": "markdown",
   "metadata": {},
   "source": [
    "# C. Combination of tanh and sigmoid in intermediate and output nodes"
   ]
  },
  {
   "cell_type": "code",
   "execution_count": 197,
   "metadata": {},
   "outputs": [
    {
     "data": {
      "text/html": [
       "<div>\n",
       "<style scoped>\n",
       "    .dataframe tbody tr th:only-of-type {\n",
       "        vertical-align: middle;\n",
       "    }\n",
       "\n",
       "    .dataframe tbody tr th {\n",
       "        vertical-align: top;\n",
       "    }\n",
       "\n",
       "    .dataframe thead th {\n",
       "        text-align: right;\n",
       "    }\n",
       "</style>\n",
       "<table border=\"1\" class=\"dataframe\">\n",
       "  <thead>\n",
       "    <tr style=\"text-align: right;\">\n",
       "      <th></th>\n",
       "      <th>hidden_nodes</th>\n",
       "      <th>squash_function_hidden</th>\n",
       "      <th>squash_function_output</th>\n",
       "      <th>accuracy</th>\n",
       "    </tr>\n",
       "  </thead>\n",
       "  <tbody>\n",
       "    <tr>\n",
       "      <th>0</th>\n",
       "      <td>4</td>\n",
       "      <td>sigmoid</td>\n",
       "      <td>sigmoid</td>\n",
       "      <td>0.994169</td>\n",
       "    </tr>\n",
       "    <tr>\n",
       "      <th>1</th>\n",
       "      <td>4</td>\n",
       "      <td>sigmoid</td>\n",
       "      <td>tanh</td>\n",
       "      <td>0.994169</td>\n",
       "    </tr>\n",
       "    <tr>\n",
       "      <th>2</th>\n",
       "      <td>4</td>\n",
       "      <td>tanh</td>\n",
       "      <td>tanh</td>\n",
       "      <td>0.994169</td>\n",
       "    </tr>\n",
       "    <tr>\n",
       "      <th>3</th>\n",
       "      <td>4</td>\n",
       "      <td>tanh</td>\n",
       "      <td>sigmoid</td>\n",
       "      <td>1.000000</td>\n",
       "    </tr>\n",
       "  </tbody>\n",
       "</table>\n",
       "</div>"
      ],
      "text/plain": [
       "  hidden_nodes squash_function_hidden squash_function_output  accuracy\n",
       "0            4                sigmoid                sigmoid  0.994169\n",
       "1            4                sigmoid                   tanh  0.994169\n",
       "2            4                   tanh                   tanh  0.994169\n",
       "3            4                   tanh                sigmoid  1.000000"
      ]
     },
     "execution_count": 197,
     "metadata": {},
     "output_type": "execute_result"
    }
   ],
   "source": [
    "best_accuracy=0\n",
    "best_hidden=0\n",
    "best_squash=None\n",
    "n_epoch=25\n",
    "\n",
    "df=pd.DataFrame(columns=['hidden_nodes','squash_function_hidden','squash_function_output','accuracy'])\n",
    "i=0\n",
    "    \n",
    "\"\"\"\n",
    "1.Sigmoid in hidden nodes and Sigmoid in output layer\n",
    "\"\"\"\n",
    "squash_func= 'sigmoid' #for intermediate layers\n",
    "res=train_network(network, dataset, 0.5, n_epoch, n_outputs)\n",
    "accuracy=validate_network(network, np.asarray(X_val), y_val)\n",
    "df.loc[i]=[n_hidden,squash_func , 'sigmoid', accuracy]\n",
    "i=i+1\n",
    "\n",
    "\"\"\"\n",
    "2.Sigmoid in hidden nodes and tanh in output layer\n",
    "\"\"\"\n",
    "squash_func= 'sigmoid' #for intermediate layers\n",
    "res=train_network(network, dataset, 0.5, n_epoch, n_outputs)\n",
    "accuracy=validate_network(network, np.asarray(X_val), y_val)\n",
    "df.loc[i]=[n_hidden,squash_func , 'tanh', accuracy]\n",
    "i=i+1\n",
    "\n",
    "\"\"\"\n",
    "3.tanh in hidden nodes and tanh in output layer\n",
    "\"\"\"\n",
    "squash_func= 'tanh' #for intermediate layers\n",
    "res=train_network(network, dataset, 0.5, n_epoch, n_outputs)\n",
    "accuracy=validate_network(network, np.asarray(X_val), y_val)\n",
    "df.loc[i]=[n_hidden,squash_func , 'tanh', accuracy]\n",
    "i=i+1\n",
    "\n",
    "\"\"\"\n",
    "4.tanh in hidden nodes and Sigmoid in output layer\n",
    "\"\"\"\n",
    "network = initialize_network(n_inputs, n_hidden, n_outputs)\n",
    "squash_func= 'tanh' #for intermediate layers\n",
    "res=train_network(network, dataset, 0.5, n_epoch, n_outputs)\n",
    "accuracy=validate_network(network, np.asarray(X_val), y_val)\n",
    "df.loc[i]=[n_hidden,squash_func , 'sigmoid', accuracy]\n",
    "\n",
    "\n",
    "df"
   ]
  },
  {
   "cell_type": "raw",
   "metadata": {},
   "source": [
    "Conclusion-\n",
    "    Network with Tanh in hidden nodes and sigmoid in output node performs the best in our case.\n",
    "    Theoretically, sigmoid function in output layer and tanh in hidden layer should be the best combination as the range of         sigmoid function is [0,1] whereas tanh function is [-1,1] so , in the intermediate layers sigmoid function squashes the         negative weights, whereas tanh retains the negative values.\n",
    "    "
   ]
  },
  {
   "cell_type": "markdown",
   "metadata": {},
   "source": [
    "# Test the best network obtained on the test set"
   ]
  },
  {
   "cell_type": "code",
   "execution_count": 132,
   "metadata": {},
   "outputs": [
    {
     "name": "stdout",
     "output_type": "stream",
     "text": [
      "number of hidden nodes== 4 ; Squash function== sigmoid ; Validation accuracy== 0.982\n"
     ]
    }
   ],
   "source": [
    "accuracy=validate_network(network, np.asarray(X_test), y_test)\n",
    "print('number of hidden nodes==',best_hidden , '; Squash function==',best_squash, '; Validation accuracy==',round(accuracy,3) )\n",
    "        "
   ]
  },
  {
   "cell_type": "markdown",
   "metadata": {},
   "source": [
    "# Summary"
   ]
  },
  {
   "cell_type": "code",
   "execution_count": null,
   "metadata": {
    "collapsed": true
   },
   "outputs": [],
   "source": [
    "\"\"\"\n",
    "Comparison Summary\n",
    "\n",
    "A.Experiments on hidden node--\n",
    "    1.Hidden node =1\n",
    "    2.Hidden node=2\n",
    "    3.Hidden node=3\n",
    "    4.Hidden node=4\n",
    "    When number of hidden nodes are 3 or 4, accuracy for the network is highest. Accuracy difference for 3 and 4 hidden node\n",
    "    is trivial, hence, hidden node=3 can be called optimum\n",
    "\n",
    "B.Experiments on combination of squash function  and hidden nodes---    \n",
    "    1. Hidden node=1 ;squash function sigmoid, is most unsable one,the training loss jumps all over the places  \n",
    "    during epochs, \n",
    "    2. hidden node=4;squash funtion sigmoid, is most stable one during epochs, training loss decreases uniformly.\n",
    "    3. hidden node=4;squash function tanh is also stable network, training loss descreases consistently, with every epoch.\n",
    "    4. One anomoly though, hidden node=3;squash func sigmoid, also has spikes and falls in training loss with epochs, which indicates non uniform learning.\n",
    "\n",
    "C.Experiments on Squash function in intermediate and output layer--\n",
    "    5.intermidiate layer =tanh ;  output layer= tanh\n",
    "    6.intermidiate layer =tanh ;  output layer= sigmoid\n",
    "    7.intermidiate layer =sigmoid ;  output layer= sigmoid\n",
    "    8.intermidiate layer =sigmoid ;  output layer= tanh\n",
    "    \n",
    "    When intermediate layer has tanh activation function and output layer has sigmoid activation , the network performs best\n",
    "    Reason being that, \n",
    "    If the input is on a higher side (where sigmoid goes flat) then the gradient will be near zero , \n",
    "    hence creating vanishing dradient problem.\n",
    "    This will cause very slow or no learning during backpropagation as weights will be updated with really small values.\n",
    "    Sigmoid also squashes the negative values as its range is [0,1], \n",
    "\n",
    "    Hence tanh is prefered in the intermediate layers, because its range is [-1,1] \n",
    "    Also the gradient is stronger for tanh than sigmoid ( derivatives are steeper).\n",
    "\n",
    "    Whereas in the output layer,the classfication problem has two classes only and sigmoiddoes not expect the \n",
    "    sum of probalibilities as 1, hence one observation can be classified into more than one classes,\n",
    "    based on their individual probabiltiies. \n",
    "    \n",
    "    In our bank_note classification problem too sigmoid function in the output layer is performing better than\n",
    "    tanh function.\n",
    "    \n",
    "    \n",
    "\n",
    "\"\"\""
   ]
  }
 ],
 "metadata": {
  "kernelspec": {
   "display_name": "Python 3",
   "language": "python",
   "name": "python3"
  },
  "language_info": {
   "codemirror_mode": {
    "name": "ipython",
    "version": 3
   },
   "file_extension": ".py",
   "mimetype": "text/x-python",
   "name": "python",
   "nbconvert_exporter": "python",
   "pygments_lexer": "ipython3",
   "version": "3.8.8"
  }
 },
 "nbformat": 4,
 "nbformat_minor": 2
}
